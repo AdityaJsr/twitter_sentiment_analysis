{
 "metadata": {
  "language_info": {
   "codemirror_mode": {
    "name": "ipython",
    "version": 3
   },
   "file_extension": ".py",
   "mimetype": "text/x-python",
   "name": "python",
   "nbconvert_exporter": "python",
   "pygments_lexer": "ipython3",
   "version": "3.9.4"
  },
  "orig_nbformat": 2,
  "kernelspec": {
   "name": "python394jvsc74a57bd068a904c57e378df13118c706ae04a228c5c0ea755501d3ab0e75256bfda2254c",
   "display_name": "Python 3.9.4 64-bit ('twitter': conda)"
  },
  "metadata": {
   "interpreter": {
    "hash": "68a904c57e378df13118c706ae04a228c5c0ea755501d3ab0e75256bfda2254c"
   }
  }
 },
 "nbformat": 4,
 "nbformat_minor": 2,
 "cells": [
  {
   "cell_type": "code",
   "execution_count": 1,
   "metadata": {},
   "outputs": [
    {
     "output_type": "error",
     "ename": "ImportError",
     "evalue": "cannot import name 'config' from 'decouple' (C:\\Users\\Fluke\\.conda\\envs\\twitter\\lib\\site-packages\\decouple\\__init__.py)",
     "traceback": [
      "\u001b[1;31m---------------------------------------------------------------------------\u001b[0m",
      "\u001b[1;31mImportError\u001b[0m                               Traceback (most recent call last)",
      "\u001b[1;32m<ipython-input-1-6c2f0b012f6c>\u001b[0m in \u001b[0;36m<module>\u001b[1;34m\u001b[0m\n\u001b[1;32m----> 1\u001b[1;33m \u001b[1;32mfrom\u001b[0m \u001b[0mdecouple\u001b[0m \u001b[1;32mimport\u001b[0m \u001b[0mconfig\u001b[0m\u001b[1;33m\u001b[0m\u001b[1;33m\u001b[0m\u001b[0m\n\u001b[0m\u001b[0;32m      2\u001b[0m \u001b[1;32mimport\u001b[0m \u001b[0mtweepy\u001b[0m\u001b[1;33m\u001b[0m\u001b[1;33m\u001b[0m\u001b[0m\n\u001b[0;32m      3\u001b[0m \u001b[1;32mimport\u001b[0m \u001b[0mpandas\u001b[0m \u001b[1;32mas\u001b[0m \u001b[0mpd\u001b[0m\u001b[1;33m\u001b[0m\u001b[1;33m\u001b[0m\u001b[0m\n\u001b[0;32m      4\u001b[0m \u001b[1;32mimport\u001b[0m \u001b[0mnumpy\u001b[0m \u001b[1;32mas\u001b[0m \u001b[0mnp\u001b[0m\u001b[1;33m\u001b[0m\u001b[1;33m\u001b[0m\u001b[0m\n\u001b[0;32m      5\u001b[0m \u001b[1;32mimport\u001b[0m \u001b[0mre\u001b[0m\u001b[1;33m\u001b[0m\u001b[1;33m\u001b[0m\u001b[0m\n",
      "\u001b[1;31mImportError\u001b[0m: cannot import name 'config' from 'decouple' (C:\\Users\\Fluke\\.conda\\envs\\twitter\\lib\\site-packages\\decouple\\__init__.py)"
     ]
    }
   ],
   "source": [
    "from decouple import config\n",
    "import tweepy\n",
    "import pandas as pd \n",
    "import numpy as np \n",
    "import re "
   ]
  },
  {
   "cell_type": "code",
   "execution_count": 19,
   "metadata": {},
   "outputs": [],
   "source": [
    "consumer_key = config('consumer_key')\n",
    "consumer_secret = config('consumer_secret')\n",
    "access_token = config('access_token')\n",
    "access_secret = config('access_secret')"
   ]
  },
  {
   "cell_type": "code",
   "execution_count": 20,
   "metadata": {},
   "outputs": [],
   "source": [
    "# create the auth object.\n",
    "auth = tweepy.OAuthHandler(consumer_key, consumer_secret)\n",
    "# access keys and tokens.\n",
    "auth.set_access_token(access_token, access_secret)"
   ]
  },
  {
   "cell_type": "code",
   "execution_count": 21,
   "metadata": {},
   "outputs": [],
   "source": [
    "#create the API object.\n",
    "api=tweepy.API(auth,wait_on_rate_limit=True)"
   ]
  },
  {
   "cell_type": "code",
   "execution_count": 23,
   "metadata": {},
   "outputs": [
    {
     "output_type": "stream",
     "name": "stdout",
     "text": [
      "show the recent 10 tweets : \n\n1) Happy Mother's Day! Shoutout to the tech savvy Moms out there 🙌🏾\n\n2) Lucid Air and Mustang Mach E commercials During SNL\n\nTesla CEO hosting SNL\n\nThere’s a joke in there somewhere #future\n\n3) @saadk2020 It's true\n\n4) You've been scrolling for a while, check on that posture. Oh and don't forget to drink some water today. Rest your… https://t.co/9FdlzJiRi2\n\n5) @austinnotduncan You animal lol\n\n6) @garthmanthe 👀\n\n7) RT @MKBHD: NEW VIDEO - What Is Right To Repair? https://t.co/LlmxRdGB66 - RT! https://t.co/4Rj7IiooUh\n\n8) @Awptimustak @dbrand Wouldn't have it any other way 😎\n\n9) @CyberDolphin007 What have you done 😅\n\n10) @Matt92708836 @dbrand Hell yeah it is\n\n"
     ]
    }
   ],
   "source": [
    "\n",
    "#Extract 100 tweets from twitter user\n",
    "tweets=api.user_timeline(screen_name=\"MKBHD\",count=100,lang=\"en\",tweet_mode=\"extented\")\n",
    "\n",
    "# print last 10 tweets from the account\n",
    "print(\"show the recent 10 tweets : \\n\")\n",
    "count=1\n",
    "for tweet in tweets[0:10]:\n",
    "    print(str(count)+\") \"+tweet.text + '\\n')\n",
    "    count += 1"
   ]
  },
  {
   "cell_type": "code",
   "execution_count": null,
   "metadata": {},
   "outputs": [],
   "source": []
  }
 ]
}